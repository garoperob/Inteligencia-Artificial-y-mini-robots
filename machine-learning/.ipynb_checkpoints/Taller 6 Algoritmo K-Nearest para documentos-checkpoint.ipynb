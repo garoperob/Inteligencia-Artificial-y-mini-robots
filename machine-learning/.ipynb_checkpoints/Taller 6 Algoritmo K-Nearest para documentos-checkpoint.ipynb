{
 "cells": [
  {
   "cell_type": "markdown",
   "metadata": {
    "id": "iBfBQDuNFVOQ"
   },
   "source": [
    "Busque un ejemplo se utilice un algoritmo de K- Nearest, o árboles de decisión.\n",
    "\n"
   ]
  },
  {
   "cell_type": "markdown",
   "metadata": {
    "id": "8eyCnnmOF36g"
   },
   "source": [
    "En este caso en empleo un Algoritmo K-Nearest para la clasificacion de documentos con el dataset de 20newgroups."
   ]
  },
  {
   "cell_type": "code",
   "execution_count": null,
   "metadata": {
    "colab": {
     "base_uri": "https://localhost:8080/"
    },
    "executionInfo": {
     "elapsed": 12007,
     "status": "ok",
     "timestamp": 1741053875229,
     "user": {
      "displayName": "Steven Santiago Guzman Bernal",
      "userId": "12543218635228548930"
     },
     "user_tz": 300
    },
    "id": "koWIZLKM5ZaM",
    "outputId": "a7ef1438-4c5c-400d-e4eb-875746368cfc"
   },
   "outputs": [
    {
     "name": "stdout",
     "output_type": "stream",
     "text": [
      "Cargando el conjunto de datos...\n",
      "Datos cargados: 3899 documentos\n",
      "Transformando los textos en vectores TF-IDF...\n",
      "Tamaño de la matriz de características: (3899, 20000)\n",
      "Reduciendo la dimensionalidad con LSA...\n",
      "Tamaño de la matriz reducida: (3899, 500)\n",
      "Dividiendo datos en entrenamiento y prueba...\n",
      "Tamaño del conjunto de entrenamiento: 3119 muestras\n",
      "Tamaño del conjunto de prueba: 780 muestras\n",
      "Entrenando modelo KNN...\n",
      "Modelo entrenado en 0.00 segundos\n",
      "Realizando predicciones...\n",
      "Precisión de KNN en clasificación de textos: 0.88\n"
     ]
    }
   ],
   "source": [
    "from sklearn.datasets import fetch_20newsgroups\n",
    "from sklearn.feature_extraction.text import TfidfVectorizer\n",
    "from sklearn.model_selection import train_test_split\n",
    "from sklearn.neighbors import KNeighborsClassifier\n",
    "from sklearn.metrics import accuracy_score\n",
    "from sklearn.decomposition import TruncatedSVD\n",
    "import time\n",
    "\n",
    "# inicio del proceso\n",
    "print(\"Cargando el conjunto de datos...\")\n",
    "categories = ['sci.space', 'comp.graphics', 'rec.sport.hockey', 'talk.politics.mideast']\n",
    "newsgroups = fetch_20newsgroups(subset='all', categories=categories, remove=('headers', 'footers', 'quotes'))\n",
    "print(f'Datos cargados: {len(newsgroups.data)} documentos')\n",
    "\n",
    "# Convertir los textos en vectores TF-IDF\n",
    "print(\"Transformando los textos en vectores TF-IDF...\")\n",
    "vectorizer = TfidfVectorizer(stop_words='english', max_features=20000, ngram_range=(1,3))\n",
    "X = vectorizer.fit_transform(newsgroups.data)\n",
    "y = newsgroups.target\n",
    "print(f'Tamaño de la matriz de características: {X.shape}')\n",
    "\n",
    "# Reducir dimensionalidad con LSA\n",
    "print(\"Reduciendo la dimensionalidad con LSA...\")\n",
    "svd = TruncatedSVD(n_components=500)\n",
    "X_reduced = svd.fit_transform(X)\n",
    "print(f'Tamaño de la matriz reducida: {X_reduced.shape}')\n",
    "\n",
    "# Dividir en conjuntos de entrenamiento y prueba\n",
    "print(\"Dividiendo datos en entrenamiento y prueba...\")\n",
    "X_train, X_test, y_train, y_test = train_test_split(X_reduced, y, test_size=0.2, random_state=42)\n",
    "print(f'Tamaño del conjunto de entrenamiento: {X_train.shape[0]} muestras')\n",
    "print(f'Tamaño del conjunto de prueba: {X_test.shape[0]} muestras')\n",
    "\n",
    "# Modelo KNN\n",
    "print(\"Entrenando modelo KNN...\")\n",
    "start_time = time.time()\n",
    "knn = KNeighborsClassifier(n_neighbors=3, weights='distance', metric='cosine')\n",
    "knn.fit(X_train, y_train)\n",
    "train_time = time.time() - start_time\n",
    "print(f'Modelo entrenado en {train_time:.2f} segundos')\n",
    "\n",
    "# Predicción y evaluación\n",
    "print(\"Realizando predicciones...\")\n",
    "y_pred = knn.predict(X_test)\n",
    "accuracy = accuracy_score(y_test, y_pred)\n",
    "print(f'Precisión de KNN en clasificación de textos: {accuracy:.2f}')\n"
   ]
  }
 ],
 "metadata": {
  "colab": {
   "authorship_tag": "ABX9TyMDOCQ5iFK+BWf5th3mDM76",
   "provenance": []
  },
  "kernelspec": {
   "display_name": "Python 3 (ipykernel)",
   "language": "python",
   "name": "python3"
  },
  "language_info": {
   "codemirror_mode": {
    "name": "ipython",
    "version": 3
   },
   "file_extension": ".py",
   "mimetype": "text/x-python",
   "name": "python",
   "nbconvert_exporter": "python",
   "pygments_lexer": "ipython3",
   "version": "3.11.2"
  }
 },
 "nbformat": 4,
 "nbformat_minor": 1
}
